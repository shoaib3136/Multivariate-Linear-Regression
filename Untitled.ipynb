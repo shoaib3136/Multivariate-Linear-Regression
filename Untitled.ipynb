{
 "cells": [
  {
   "cell_type": "code",
   "execution_count": 1,
   "metadata": {},
   "outputs": [
    {
     "name": "stdout",
     "output_type": "stream",
     "text": [
      "coefficient:  [0.00755095 0.00780526]\n",
      "Intercept:  79.69471929115939\n",
      "Predicted CO2 fot the corresponding weight and volume [114.75968007]\n"
     ]
    },
    {
     "name": "stderr",
     "output_type": "stream",
     "text": [
      "/home/sec/anaconda3/envs/ml/lib/python3.10/site-packages/sklearn/base.py:450: UserWarning: X does not have valid feature names, but LinearRegression was fitted with feature names\n",
      "  warnings.warn(\n"
     ]
    }
   ],
   "source": [
    "import pandas as pd\n",
    "from sklearn import linear_model\n",
    "data=pd.read_csv(\"cars.csv\")\n",
    "x=data[['Weight','Volume']]\n",
    "y=data['CO2']\n",
    "regr=linear_model.LinearRegression()\n",
    "regr.fit(x,y)\n",
    "print('coefficient: ',regr.coef_)\n",
    "print('Intercept: ',regr.intercept_)\n",
    "predictCO2=regr.predict([[3300,1300]])\n",
    "print('Predicted CO2 fot the corresponding weight and volume',predictCO2)"
   ]
  }
 ],
 "metadata": {
  "kernelspec": {
   "display_name": "ml",
   "language": "python",
   "name": "python3"
  },
  "language_info": {
   "codemirror_mode": {
    "name": "ipython",
    "version": 3
   },
   "file_extension": ".py",
   "mimetype": "text/x-python",
   "name": "python",
   "nbconvert_exporter": "python",
   "pygments_lexer": "ipython3",
   "version": "3.10.4"
  },
  "vscode": {
   "interpreter": {
    "hash": "7d383bc5be637909c8c07269d3dd820eee0e303be61f301113b5846a769c139a"
   }
  }
 },
 "nbformat": 4,
 "nbformat_minor": 5
}
